{
 "cells": [
  {
   "cell_type": "code",
   "execution_count": 2,
   "id": "1022e3b3-220c-48f5-91e2-2f435863d049",
   "metadata": {
    "tags": []
   },
   "outputs": [],
   "source": [
    "#this program predicts the stock prices using machine learning models"
   ]
  },
  {
   "cell_type": "code",
   "execution_count": 3,
   "id": "098ad46d-d410-4ceb-aba4-a735128896bb",
   "metadata": {
    "tags": []
   },
   "outputs": [],
   "source": [
    "#Importing dependencies"
   ]
  },
  {
   "cell_type": "code",
   "execution_count": 6,
   "id": "4a59017b-3d05-4994-9f26-cc6c6bc94e8c",
   "metadata": {
    "tags": []
   },
   "outputs": [],
   "source": [
    "import quandl\n",
    "import numpy as np\n",
    "from sklearn.linear_model import LinearRegression\n",
    "from sklearn.svm import SVR\n",
    "from sklearn.model_selection import train_test_split"
   ]
  },
  {
   "cell_type": "code",
   "execution_count": 7,
   "id": "8d498c08-2b96-491f-93b0-af37248c038a",
   "metadata": {
    "tags": []
   },
   "outputs": [],
   "source": [
    "#get the stock data"
   ]
  },
  {
   "cell_type": "code",
   "execution_count": 101,
   "id": "1b16503c-44a7-4d7b-99f8-f73fc8d9b3aa",
   "metadata": {
    "tags": []
   },
   "outputs": [
    {
     "name": "stdout",
     "output_type": "stream",
     "text": [
      "             Open   High    Low  Close      Volume  Ex-Dividend  Split Ratio  \\\n",
      "Date                                                                           \n",
      "2013-11-01  35.00  37.00  32.10  36.20  14667600.0          0.0          1.0   \n",
      "2013-11-04  36.80  36.80  34.69  35.35   1586600.0          0.0          1.0   \n",
      "2013-11-05  35.11  35.50  34.82  35.35    337700.0          0.0          1.0   \n",
      "2013-11-06  35.61  36.49  35.61  35.90    549600.0          0.0          1.0   \n",
      "2013-11-07  36.80  36.80  34.12  35.31    883700.0          0.0          1.0   \n",
      "\n",
      "            Adj. Open  Adj. High  Adj. Low  Adj. Close  Adj. Volume  \n",
      "Date                                                                 \n",
      "2013-11-01      35.00      37.00     32.10       36.20   14667600.0  \n",
      "2013-11-04      36.80      36.80     34.69       35.35    1586600.0  \n",
      "2013-11-05      35.11      35.50     34.82       35.35     337700.0  \n",
      "2013-11-06      35.61      36.49     35.61       35.90     549600.0  \n",
      "2013-11-07      36.80      36.80     34.12       35.31     883700.0  \n"
     ]
    }
   ],
   "source": [
    "df=quandl.get('WIKI/TCS')\n",
    "#Take a look at the data\n",
    "print(df.head())"
   ]
  },
  {
   "cell_type": "code",
   "execution_count": 103,
   "id": "ba123555-7691-497b-bd6c-0db0e7109a72",
   "metadata": {
    "tags": []
   },
   "outputs": [
    {
     "name": "stdout",
     "output_type": "stream",
     "text": [
      "            Adj. Close\n",
      "Date                  \n",
      "2013-11-01       36.20\n",
      "2013-11-04       35.35\n",
      "2013-11-05       35.35\n",
      "2013-11-06       35.90\n",
      "2013-11-07       35.31\n"
     ]
    }
   ],
   "source": [
    "#get the adjusted close price\n",
    "df=df[['Adj. Close']]\n",
    "print(df.head())"
   ]
  },
  {
   "cell_type": "code",
   "execution_count": 104,
   "id": "3c585b00-1ba6-4f2e-94ba-968a4d9b33c7",
   "metadata": {
    "tags": []
   },
   "outputs": [
    {
     "name": "stdout",
     "output_type": "stream",
     "text": [
      "Head\n",
      "            Adj. Close  Prediction\n",
      "Date                              \n",
      "2013-11-01       36.20       41.16\n",
      "2013-11-04       35.35       42.40\n",
      "2013-11-05       35.35       43.81\n",
      "2013-11-06       35.90       40.25\n",
      "2013-11-07       35.31       41.28\n",
      "Tail\n",
      "            Adj. Close  Prediction\n",
      "Date                              \n",
      "2018-03-21        5.50         NaN\n",
      "2018-03-22        5.36         NaN\n",
      "2018-03-23        5.31         NaN\n",
      "2018-03-26        5.61         NaN\n",
      "2018-03-27        5.57         NaN\n"
     ]
    }
   ],
   "source": [
    "#A variable for predicting n days out into future\n",
    "forecast_out=30 #next 30 day adj close\n",
    "#Create a another column (The target or dependent variable) shifted 'n' units up\n",
    "df['Prediction']=df[['Adj. Close']].shift(-forecast_out)\n",
    "print('Head')\n",
    "print(df.head())\n",
    "print('Tail')\n",
    "print(df.tail())"
   ]
  },
  {
   "cell_type": "code",
   "execution_count": 105,
   "id": "febf2fd9-1f9d-4b1d-ba55-0c0789b43a5b",
   "metadata": {
    "tags": []
   },
   "outputs": [
    {
     "name": "stdout",
     "output_type": "stream",
     "text": [
      "[[36.2 ]\n",
      " [35.35]\n",
      " [35.35]\n",
      " ...\n",
      " [ 4.86]\n",
      " [ 4.67]\n",
      " [ 4.77]]\n"
     ]
    },
    {
     "name": "stderr",
     "output_type": "stream",
     "text": [
      "/var/folders/3s/jzblmwmd6bb1z6zxqjy91l8w0000gn/T/ipykernel_47679/738663914.py:3: FutureWarning: In a future version of pandas all arguments of DataFrame.drop except for the argument 'labels' will be keyword-only.\n",
      "  X=np.array(df.drop(['Prediction'],1))\n"
     ]
    }
   ],
   "source": [
    "###Create an independent dataset (X) ####\n",
    "\n",
    "X=np.array(df.drop(['Prediction'],1))\n",
    "#Remove the last 'n' rows (forecast_out)\n",
    "X =X[:-forecast_out]\n",
    "print(X)"
   ]
  },
  {
   "cell_type": "code",
   "execution_count": 106,
   "id": "23028c46-966b-447f-a442-75e039212ef6",
   "metadata": {
    "tags": []
   },
   "outputs": [
    {
     "name": "stdout",
     "output_type": "stream",
     "text": [
      "[41.16 42.4  43.81 ...  5.31  5.61  5.57]\n"
     ]
    }
   ],
   "source": [
    "###Create the dependent dataset (y)###\n",
    "y=np.array(df['Prediction'])\n",
    "#Get all of the y values except the last 'n' rows\n",
    "y=y[:-forecast_out]\n",
    "print(y)"
   ]
  },
  {
   "cell_type": "code",
   "execution_count": 107,
   "id": "122e5714-c8e2-4918-99c0-61d6f3d2c1d7",
   "metadata": {
    "tags": []
   },
   "outputs": [],
   "source": [
    "#Split the data into 80% training and 20% testing\n",
    "\n",
    "x_train, x_test, y_train, y_test=train_test_split(X,y,test_size=0.2)"
   ]
  },
  {
   "cell_type": "code",
   "execution_count": 108,
   "id": "1110297b-85e9-4c2d-8f40-7441d58316ff",
   "metadata": {
    "tags": []
   },
   "outputs": [
    {
     "data": {
      "text/html": [
       "<style>#sk-container-id-9 {color: black;}#sk-container-id-9 pre{padding: 0;}#sk-container-id-9 div.sk-toggleable {background-color: white;}#sk-container-id-9 label.sk-toggleable__label {cursor: pointer;display: block;width: 100%;margin-bottom: 0;padding: 0.3em;box-sizing: border-box;text-align: center;}#sk-container-id-9 label.sk-toggleable__label-arrow:before {content: \"▸\";float: left;margin-right: 0.25em;color: #696969;}#sk-container-id-9 label.sk-toggleable__label-arrow:hover:before {color: black;}#sk-container-id-9 div.sk-estimator:hover label.sk-toggleable__label-arrow:before {color: black;}#sk-container-id-9 div.sk-toggleable__content {max-height: 0;max-width: 0;overflow: hidden;text-align: left;background-color: #f0f8ff;}#sk-container-id-9 div.sk-toggleable__content pre {margin: 0.2em;color: black;border-radius: 0.25em;background-color: #f0f8ff;}#sk-container-id-9 input.sk-toggleable__control:checked~div.sk-toggleable__content {max-height: 200px;max-width: 100%;overflow: auto;}#sk-container-id-9 input.sk-toggleable__control:checked~label.sk-toggleable__label-arrow:before {content: \"▾\";}#sk-container-id-9 div.sk-estimator input.sk-toggleable__control:checked~label.sk-toggleable__label {background-color: #d4ebff;}#sk-container-id-9 div.sk-label input.sk-toggleable__control:checked~label.sk-toggleable__label {background-color: #d4ebff;}#sk-container-id-9 input.sk-hidden--visually {border: 0;clip: rect(1px 1px 1px 1px);clip: rect(1px, 1px, 1px, 1px);height: 1px;margin: -1px;overflow: hidden;padding: 0;position: absolute;width: 1px;}#sk-container-id-9 div.sk-estimator {font-family: monospace;background-color: #f0f8ff;border: 1px dotted black;border-radius: 0.25em;box-sizing: border-box;margin-bottom: 0.5em;}#sk-container-id-9 div.sk-estimator:hover {background-color: #d4ebff;}#sk-container-id-9 div.sk-parallel-item::after {content: \"\";width: 100%;border-bottom: 1px solid gray;flex-grow: 1;}#sk-container-id-9 div.sk-label:hover label.sk-toggleable__label {background-color: #d4ebff;}#sk-container-id-9 div.sk-serial::before {content: \"\";position: absolute;border-left: 1px solid gray;box-sizing: border-box;top: 0;bottom: 0;left: 50%;z-index: 0;}#sk-container-id-9 div.sk-serial {display: flex;flex-direction: column;align-items: center;background-color: white;padding-right: 0.2em;padding-left: 0.2em;position: relative;}#sk-container-id-9 div.sk-item {position: relative;z-index: 1;}#sk-container-id-9 div.sk-parallel {display: flex;align-items: stretch;justify-content: center;background-color: white;position: relative;}#sk-container-id-9 div.sk-item::before, #sk-container-id-9 div.sk-parallel-item::before {content: \"\";position: absolute;border-left: 1px solid gray;box-sizing: border-box;top: 0;bottom: 0;left: 50%;z-index: -1;}#sk-container-id-9 div.sk-parallel-item {display: flex;flex-direction: column;z-index: 1;position: relative;background-color: white;}#sk-container-id-9 div.sk-parallel-item:first-child::after {align-self: flex-end;width: 50%;}#sk-container-id-9 div.sk-parallel-item:last-child::after {align-self: flex-start;width: 50%;}#sk-container-id-9 div.sk-parallel-item:only-child::after {width: 0;}#sk-container-id-9 div.sk-dashed-wrapped {border: 1px dashed gray;margin: 0 0.4em 0.5em 0.4em;box-sizing: border-box;padding-bottom: 0.4em;background-color: white;}#sk-container-id-9 div.sk-label label {font-family: monospace;font-weight: bold;display: inline-block;line-height: 1.2em;}#sk-container-id-9 div.sk-label-container {text-align: center;}#sk-container-id-9 div.sk-container {/* jupyter's `normalize.less` sets `[hidden] { display: none; }` but bootstrap.min.css set `[hidden] { display: none !important; }` so we also need the `!important` here to be able to override the default hidden behavior on the sphinx rendered scikit-learn.org. See: https://github.com/scikit-learn/scikit-learn/issues/21755 */display: inline-block !important;position: relative;}#sk-container-id-9 div.sk-text-repr-fallback {display: none;}</style><div id=\"sk-container-id-9\" class=\"sk-top-container\"><div class=\"sk-text-repr-fallback\"><pre>SVR(C=1000.0, gamma=0.1)</pre><b>In a Jupyter environment, please rerun this cell to show the HTML representation or trust the notebook. <br />On GitHub, the HTML representation is unable to render, please try loading this page with nbviewer.org.</b></div><div class=\"sk-container\" hidden><div class=\"sk-item\"><div class=\"sk-estimator sk-toggleable\"><input class=\"sk-toggleable__control sk-hidden--visually\" id=\"sk-estimator-id-9\" type=\"checkbox\" checked><label for=\"sk-estimator-id-9\" class=\"sk-toggleable__label sk-toggleable__label-arrow\">SVR</label><div class=\"sk-toggleable__content\"><pre>SVR(C=1000.0, gamma=0.1)</pre></div></div></div></div></div>"
      ],
      "text/plain": [
       "SVR(C=1000.0, gamma=0.1)"
      ]
     },
     "execution_count": 108,
     "metadata": {},
     "output_type": "execute_result"
    }
   ],
   "source": [
    "#create and train the support vector machine (Regressor)\n",
    "svr_rbf=SVR(kernel='rbf',C=1e3,gamma=0.1)\n",
    "svr_rbf.fit(x_train,y_train)"
   ]
  },
  {
   "cell_type": "code",
   "execution_count": 109,
   "id": "52c6b7c1-1911-409f-99aa-d60e704c0b2d",
   "metadata": {
    "tags": []
   },
   "outputs": [
    {
     "name": "stdout",
     "output_type": "stream",
     "text": [
      "svm confidence: ; 0.9541020120472276\n"
     ]
    }
   ],
   "source": [
    "#Testing Model: Score returns the coefficient of determination of the prediction\n",
    "#The best possible score is 1.0\n",
    "svm_confidence=svr_rbf.score(x_test,y_test)\n",
    "print('svm confidence: ;' ,svm_confidence)"
   ]
  },
  {
   "cell_type": "code",
   "execution_count": 110,
   "id": "dbbcbb7e-9e86-4d0b-9f1e-b09010f2e92b",
   "metadata": {
    "tags": []
   },
   "outputs": [
    {
     "data": {
      "text/html": [
       "<style>#sk-container-id-10 {color: black;}#sk-container-id-10 pre{padding: 0;}#sk-container-id-10 div.sk-toggleable {background-color: white;}#sk-container-id-10 label.sk-toggleable__label {cursor: pointer;display: block;width: 100%;margin-bottom: 0;padding: 0.3em;box-sizing: border-box;text-align: center;}#sk-container-id-10 label.sk-toggleable__label-arrow:before {content: \"▸\";float: left;margin-right: 0.25em;color: #696969;}#sk-container-id-10 label.sk-toggleable__label-arrow:hover:before {color: black;}#sk-container-id-10 div.sk-estimator:hover label.sk-toggleable__label-arrow:before {color: black;}#sk-container-id-10 div.sk-toggleable__content {max-height: 0;max-width: 0;overflow: hidden;text-align: left;background-color: #f0f8ff;}#sk-container-id-10 div.sk-toggleable__content pre {margin: 0.2em;color: black;border-radius: 0.25em;background-color: #f0f8ff;}#sk-container-id-10 input.sk-toggleable__control:checked~div.sk-toggleable__content {max-height: 200px;max-width: 100%;overflow: auto;}#sk-container-id-10 input.sk-toggleable__control:checked~label.sk-toggleable__label-arrow:before {content: \"▾\";}#sk-container-id-10 div.sk-estimator input.sk-toggleable__control:checked~label.sk-toggleable__label {background-color: #d4ebff;}#sk-container-id-10 div.sk-label input.sk-toggleable__control:checked~label.sk-toggleable__label {background-color: #d4ebff;}#sk-container-id-10 input.sk-hidden--visually {border: 0;clip: rect(1px 1px 1px 1px);clip: rect(1px, 1px, 1px, 1px);height: 1px;margin: -1px;overflow: hidden;padding: 0;position: absolute;width: 1px;}#sk-container-id-10 div.sk-estimator {font-family: monospace;background-color: #f0f8ff;border: 1px dotted black;border-radius: 0.25em;box-sizing: border-box;margin-bottom: 0.5em;}#sk-container-id-10 div.sk-estimator:hover {background-color: #d4ebff;}#sk-container-id-10 div.sk-parallel-item::after {content: \"\";width: 100%;border-bottom: 1px solid gray;flex-grow: 1;}#sk-container-id-10 div.sk-label:hover label.sk-toggleable__label {background-color: #d4ebff;}#sk-container-id-10 div.sk-serial::before {content: \"\";position: absolute;border-left: 1px solid gray;box-sizing: border-box;top: 0;bottom: 0;left: 50%;z-index: 0;}#sk-container-id-10 div.sk-serial {display: flex;flex-direction: column;align-items: center;background-color: white;padding-right: 0.2em;padding-left: 0.2em;position: relative;}#sk-container-id-10 div.sk-item {position: relative;z-index: 1;}#sk-container-id-10 div.sk-parallel {display: flex;align-items: stretch;justify-content: center;background-color: white;position: relative;}#sk-container-id-10 div.sk-item::before, #sk-container-id-10 div.sk-parallel-item::before {content: \"\";position: absolute;border-left: 1px solid gray;box-sizing: border-box;top: 0;bottom: 0;left: 50%;z-index: -1;}#sk-container-id-10 div.sk-parallel-item {display: flex;flex-direction: column;z-index: 1;position: relative;background-color: white;}#sk-container-id-10 div.sk-parallel-item:first-child::after {align-self: flex-end;width: 50%;}#sk-container-id-10 div.sk-parallel-item:last-child::after {align-self: flex-start;width: 50%;}#sk-container-id-10 div.sk-parallel-item:only-child::after {width: 0;}#sk-container-id-10 div.sk-dashed-wrapped {border: 1px dashed gray;margin: 0 0.4em 0.5em 0.4em;box-sizing: border-box;padding-bottom: 0.4em;background-color: white;}#sk-container-id-10 div.sk-label label {font-family: monospace;font-weight: bold;display: inline-block;line-height: 1.2em;}#sk-container-id-10 div.sk-label-container {text-align: center;}#sk-container-id-10 div.sk-container {/* jupyter's `normalize.less` sets `[hidden] { display: none; }` but bootstrap.min.css set `[hidden] { display: none !important; }` so we also need the `!important` here to be able to override the default hidden behavior on the sphinx rendered scikit-learn.org. See: https://github.com/scikit-learn/scikit-learn/issues/21755 */display: inline-block !important;position: relative;}#sk-container-id-10 div.sk-text-repr-fallback {display: none;}</style><div id=\"sk-container-id-10\" class=\"sk-top-container\"><div class=\"sk-text-repr-fallback\"><pre>LinearRegression()</pre><b>In a Jupyter environment, please rerun this cell to show the HTML representation or trust the notebook. <br />On GitHub, the HTML representation is unable to render, please try loading this page with nbviewer.org.</b></div><div class=\"sk-container\" hidden><div class=\"sk-item\"><div class=\"sk-estimator sk-toggleable\"><input class=\"sk-toggleable__control sk-hidden--visually\" id=\"sk-estimator-id-10\" type=\"checkbox\" checked><label for=\"sk-estimator-id-10\" class=\"sk-toggleable__label sk-toggleable__label-arrow\">LinearRegression</label><div class=\"sk-toggleable__content\"><pre>LinearRegression()</pre></div></div></div></div></div>"
      ],
      "text/plain": [
       "LinearRegression()"
      ]
     },
     "execution_count": 110,
     "metadata": {},
     "output_type": "execute_result"
    }
   ],
   "source": [
    "#create and train the linear regression model\n",
    "lr = LinearRegression()\n",
    "# Train the model\n",
    "lr.fit(x_train, y_train)\n"
   ]
  },
  {
   "cell_type": "code",
   "execution_count": 111,
   "id": "d23a7628-11c3-4edf-92be-1362c685a302",
   "metadata": {
    "tags": []
   },
   "outputs": [
    {
     "name": "stdout",
     "output_type": "stream",
     "text": [
      "LR confidence: ; 0.9493381474456675\n"
     ]
    }
   ],
   "source": [
    "#Testing Model: Score returns the coefficient of determination of the prediction\n",
    "#The best possible score is 1.0\n",
    "lr_confidence=lr.score(x_test,y_test)\n",
    "print('LR confidence: ;' ,lr_confidence)"
   ]
  },
  {
   "cell_type": "code",
   "execution_count": 112,
   "id": "474d88db-b8f9-4378-b37a-d41f925d26b5",
   "metadata": {
    "tags": []
   },
   "outputs": [
    {
     "name": "stdout",
     "output_type": "stream",
     "text": [
      "[[5.  ]\n",
      " [5.09]\n",
      " [5.06]\n",
      " [4.99]\n",
      " [4.85]\n",
      " [4.73]\n",
      " [4.75]\n",
      " [4.83]\n",
      " [4.78]\n",
      " [5.01]\n",
      " [5.05]\n",
      " [4.84]\n",
      " [4.87]\n",
      " [4.72]\n",
      " [4.91]\n",
      " [4.92]\n",
      " [4.72]\n",
      " [5.31]\n",
      " [5.56]\n",
      " [5.43]\n",
      " [5.39]\n",
      " [5.53]\n",
      " [5.65]\n",
      " [5.65]\n",
      " [5.4 ]\n",
      " [5.5 ]\n",
      " [5.36]\n",
      " [5.31]\n",
      " [5.61]\n",
      " [5.57]]\n"
     ]
    },
    {
     "name": "stderr",
     "output_type": "stream",
     "text": [
      "/var/folders/3s/jzblmwmd6bb1z6zxqjy91l8w0000gn/T/ipykernel_47679/1641069171.py:1: FutureWarning: In a future version of pandas all arguments of DataFrame.drop except for the argument 'labels' will be keyword-only.\n",
      "  x_forecast=np.array(df.drop(['Prediction'],1))[-forecast_out:]\n"
     ]
    }
   ],
   "source": [
    "x_forecast=np.array(df.drop(['Prediction'],1))[-forecast_out:]\n",
    "print(x_forecast)\n"
   ]
  },
  {
   "cell_type": "code",
   "execution_count": 113,
   "id": "25631ecd-3ba0-4bed-bcd1-bb1030633795",
   "metadata": {
    "tags": []
   },
   "outputs": [
    {
     "name": "stdout",
     "output_type": "stream",
     "text": [
      "[4.9214663  5.00293532 4.97577898 4.91241419 4.7856846  4.67705925\n",
      " 4.69516347 4.76758038 4.72231981 4.93051841 4.96672687 4.77663249\n",
      " 4.80378883 4.66800713 4.83999728 4.8490494  4.66800713 5.20208181\n",
      " 5.42838464 5.31070717 5.27449871 5.4012283  5.50985366 5.50985366\n",
      " 5.28355083 5.37407196 5.24734237 5.20208181 5.4736452  5.43743675]\n",
      "[5.1492988  5.18239293 5.17170638 5.14545094 5.08966747 5.04227574\n",
      " 5.04994365 5.08160961 5.06166615 5.1531174  5.16806181 5.08563536\n",
      " 5.09774082 5.03849439 5.11385631 5.11786499 5.03849439 5.24605702\n",
      " 5.27802488 5.26726042 5.26136818 5.27668636 5.27795404 5.27795404\n",
      " 5.26295338 5.27466015 5.25616942 5.24605702 5.27873629 5.27831865]\n"
     ]
    }
   ],
   "source": [
    "#Print LR model predictions for next 'n' days\n",
    "lr_prediction=lr.predict(x_forecast)\n",
    "print(lr_prediction)\n",
    "\n",
    "#Print SVR model predictions for next 'n' days\n",
    "svm_prediction=svr_rbf.predict(x_forecast)\n",
    "print(svm_prediction)"
   ]
  }
 ],
 "metadata": {
  "kernelspec": {
   "display_name": "Python 3 (ipykernel)",
   "language": "python",
   "name": "python3"
  },
  "language_info": {
   "codemirror_mode": {
    "name": "ipython",
    "version": 3
   },
   "file_extension": ".py",
   "mimetype": "text/x-python",
   "name": "python",
   "nbconvert_exporter": "python",
   "pygments_lexer": "ipython3",
   "version": "3.11.4"
  }
 },
 "nbformat": 4,
 "nbformat_minor": 5
}
