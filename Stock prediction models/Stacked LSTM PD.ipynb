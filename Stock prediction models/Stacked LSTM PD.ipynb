{
 "cells": [
  {
   "cell_type": "code",
   "execution_count": 1,
   "id": "927519a7-b70b-4c2f-b35f-6f97d84c0400",
   "metadata": {
    "tags": []
   },
   "outputs": [],
   "source": [
    "##Data collection ##"
   ]
  },
  {
   "cell_type": "code",
   "execution_count": 2,
   "id": "6d926068-7019-4805-9a67-83ec54e9beb3",
   "metadata": {
    "tags": []
   },
   "outputs": [],
   "source": [
    "import quandl\n",
    "import numpy as np\n",
    "import matplotlib.pyplot as plt\n",
    "from sklearn.linear_model import LinearRegression\n",
    "from sklearn.svm import SVR\n",
    "from sklearn.model_selection import train_test_split\n",
    "from sklearn.preprocessing import MinMaxScaler"
   ]
  },
  {
   "cell_type": "code",
   "execution_count": 3,
   "id": "3e13cf80-2115-4af8-9667-f60135c93ee5",
   "metadata": {
    "tags": []
   },
   "outputs": [],
   "source": [
    "df=quandl.get('WIKI/AAPL')"
   ]
  },
  {
   "cell_type": "code",
   "execution_count": 4,
   "id": "ce5ce240-4897-4859-a9e5-f5e0247efe1e",
   "metadata": {
    "tags": []
   },
   "outputs": [],
   "source": [
    "df.to_csv('AAPL.csv')"
   ]
  },
  {
   "cell_type": "code",
   "execution_count": 5,
   "id": "80e06dec-1913-44c0-b490-0b754d1b859c",
   "metadata": {
    "tags": []
   },
   "outputs": [
    {
     "data": {
      "text/html": [
       "<div>\n",
       "<style scoped>\n",
       "    .dataframe tbody tr th:only-of-type {\n",
       "        vertical-align: middle;\n",
       "    }\n",
       "\n",
       "    .dataframe tbody tr th {\n",
       "        vertical-align: top;\n",
       "    }\n",
       "\n",
       "    .dataframe thead th {\n",
       "        text-align: right;\n",
       "    }\n",
       "</style>\n",
       "<table border=\"1\" class=\"dataframe\">\n",
       "  <thead>\n",
       "    <tr style=\"text-align: right;\">\n",
       "      <th></th>\n",
       "      <th>Open</th>\n",
       "      <th>High</th>\n",
       "      <th>Low</th>\n",
       "      <th>Close</th>\n",
       "      <th>Volume</th>\n",
       "      <th>Ex-Dividend</th>\n",
       "      <th>Split Ratio</th>\n",
       "      <th>Adj. Open</th>\n",
       "      <th>Adj. High</th>\n",
       "      <th>Adj. Low</th>\n",
       "      <th>Adj. Close</th>\n",
       "      <th>Adj. Volume</th>\n",
       "    </tr>\n",
       "    <tr>\n",
       "      <th>Date</th>\n",
       "      <th></th>\n",
       "      <th></th>\n",
       "      <th></th>\n",
       "      <th></th>\n",
       "      <th></th>\n",
       "      <th></th>\n",
       "      <th></th>\n",
       "      <th></th>\n",
       "      <th></th>\n",
       "      <th></th>\n",
       "      <th></th>\n",
       "      <th></th>\n",
       "    </tr>\n",
       "  </thead>\n",
       "  <tbody>\n",
       "    <tr>\n",
       "      <th>1980-12-12</th>\n",
       "      <td>28.75</td>\n",
       "      <td>28.87</td>\n",
       "      <td>28.75</td>\n",
       "      <td>28.75</td>\n",
       "      <td>2093900.0</td>\n",
       "      <td>0.0</td>\n",
       "      <td>1.0</td>\n",
       "      <td>0.422706</td>\n",
       "      <td>0.424470</td>\n",
       "      <td>0.422706</td>\n",
       "      <td>0.422706</td>\n",
       "      <td>117258400.0</td>\n",
       "    </tr>\n",
       "    <tr>\n",
       "      <th>1980-12-15</th>\n",
       "      <td>27.38</td>\n",
       "      <td>27.38</td>\n",
       "      <td>27.25</td>\n",
       "      <td>27.25</td>\n",
       "      <td>785200.0</td>\n",
       "      <td>0.0</td>\n",
       "      <td>1.0</td>\n",
       "      <td>0.402563</td>\n",
       "      <td>0.402563</td>\n",
       "      <td>0.400652</td>\n",
       "      <td>0.400652</td>\n",
       "      <td>43971200.0</td>\n",
       "    </tr>\n",
       "    <tr>\n",
       "      <th>1980-12-16</th>\n",
       "      <td>25.37</td>\n",
       "      <td>25.37</td>\n",
       "      <td>25.25</td>\n",
       "      <td>25.25</td>\n",
       "      <td>472000.0</td>\n",
       "      <td>0.0</td>\n",
       "      <td>1.0</td>\n",
       "      <td>0.373010</td>\n",
       "      <td>0.373010</td>\n",
       "      <td>0.371246</td>\n",
       "      <td>0.371246</td>\n",
       "      <td>26432000.0</td>\n",
       "    </tr>\n",
       "    <tr>\n",
       "      <th>1980-12-17</th>\n",
       "      <td>25.87</td>\n",
       "      <td>26.00</td>\n",
       "      <td>25.87</td>\n",
       "      <td>25.87</td>\n",
       "      <td>385900.0</td>\n",
       "      <td>0.0</td>\n",
       "      <td>1.0</td>\n",
       "      <td>0.380362</td>\n",
       "      <td>0.382273</td>\n",
       "      <td>0.380362</td>\n",
       "      <td>0.380362</td>\n",
       "      <td>21610400.0</td>\n",
       "    </tr>\n",
       "    <tr>\n",
       "      <th>1980-12-18</th>\n",
       "      <td>26.63</td>\n",
       "      <td>26.75</td>\n",
       "      <td>26.63</td>\n",
       "      <td>26.63</td>\n",
       "      <td>327900.0</td>\n",
       "      <td>0.0</td>\n",
       "      <td>1.0</td>\n",
       "      <td>0.391536</td>\n",
       "      <td>0.393300</td>\n",
       "      <td>0.391536</td>\n",
       "      <td>0.391536</td>\n",
       "      <td>18362400.0</td>\n",
       "    </tr>\n",
       "  </tbody>\n",
       "</table>\n",
       "</div>"
      ],
      "text/plain": [
       "             Open   High    Low  Close     Volume  Ex-Dividend  Split Ratio  \\\n",
       "Date                                                                          \n",
       "1980-12-12  28.75  28.87  28.75  28.75  2093900.0          0.0          1.0   \n",
       "1980-12-15  27.38  27.38  27.25  27.25   785200.0          0.0          1.0   \n",
       "1980-12-16  25.37  25.37  25.25  25.25   472000.0          0.0          1.0   \n",
       "1980-12-17  25.87  26.00  25.87  25.87   385900.0          0.0          1.0   \n",
       "1980-12-18  26.63  26.75  26.63  26.63   327900.0          0.0          1.0   \n",
       "\n",
       "            Adj. Open  Adj. High  Adj. Low  Adj. Close  Adj. Volume  \n",
       "Date                                                                 \n",
       "1980-12-12   0.422706   0.424470  0.422706    0.422706  117258400.0  \n",
       "1980-12-15   0.402563   0.402563  0.400652    0.400652   43971200.0  \n",
       "1980-12-16   0.373010   0.373010  0.371246    0.371246   26432000.0  \n",
       "1980-12-17   0.380362   0.382273  0.380362    0.380362   21610400.0  \n",
       "1980-12-18   0.391536   0.393300  0.391536    0.391536   18362400.0  "
      ]
     },
     "execution_count": 5,
     "metadata": {},
     "output_type": "execute_result"
    }
   ],
   "source": [
    "df.head()"
   ]
  },
  {
   "cell_type": "code",
   "execution_count": 6,
   "id": "1ea7599e-209d-466b-a77d-ded6813c62a3",
   "metadata": {
    "tags": []
   },
   "outputs": [
    {
     "data": {
      "text/html": [
       "<div>\n",
       "<style scoped>\n",
       "    .dataframe tbody tr th:only-of-type {\n",
       "        vertical-align: middle;\n",
       "    }\n",
       "\n",
       "    .dataframe tbody tr th {\n",
       "        vertical-align: top;\n",
       "    }\n",
       "\n",
       "    .dataframe thead th {\n",
       "        text-align: right;\n",
       "    }\n",
       "</style>\n",
       "<table border=\"1\" class=\"dataframe\">\n",
       "  <thead>\n",
       "    <tr style=\"text-align: right;\">\n",
       "      <th></th>\n",
       "      <th>Close</th>\n",
       "    </tr>\n",
       "    <tr>\n",
       "      <th>Date</th>\n",
       "      <th></th>\n",
       "    </tr>\n",
       "  </thead>\n",
       "  <tbody>\n",
       "    <tr>\n",
       "      <th>1980-12-12</th>\n",
       "      <td>28.75</td>\n",
       "    </tr>\n",
       "    <tr>\n",
       "      <th>1980-12-15</th>\n",
       "      <td>27.25</td>\n",
       "    </tr>\n",
       "    <tr>\n",
       "      <th>1980-12-16</th>\n",
       "      <td>25.25</td>\n",
       "    </tr>\n",
       "    <tr>\n",
       "      <th>1980-12-17</th>\n",
       "      <td>25.87</td>\n",
       "    </tr>\n",
       "    <tr>\n",
       "      <th>1980-12-18</th>\n",
       "      <td>26.63</td>\n",
       "    </tr>\n",
       "  </tbody>\n",
       "</table>\n",
       "</div>"
      ],
      "text/plain": [
       "            Close\n",
       "Date             \n",
       "1980-12-12  28.75\n",
       "1980-12-15  27.25\n",
       "1980-12-16  25.25\n",
       "1980-12-17  25.87\n",
       "1980-12-18  26.63"
      ]
     },
     "execution_count": 6,
     "metadata": {},
     "output_type": "execute_result"
    }
   ],
   "source": [
    "df=df[['Close']]\n",
    "df.head()"
   ]
  },
  {
   "cell_type": "code",
   "execution_count": 7,
   "id": "8bb0a847-51bd-4d47-9fab-6af0ff309a02",
   "metadata": {
    "tags": []
   },
   "outputs": [
    {
     "data": {
      "text/plain": [
       "(9400, 1)"
      ]
     },
     "execution_count": 7,
     "metadata": {},
     "output_type": "execute_result"
    }
   ],
   "source": [
    "df.shape"
   ]
  },
  {
   "cell_type": "code",
   "execution_count": 8,
   "id": "02af73b2-9c3e-43e4-8951-837da4e13870",
   "metadata": {
    "tags": []
   },
   "outputs": [
    {
     "data": {
      "text/plain": [
       "[<matplotlib.lines.Line2D at 0x14bc60cd0>]"
      ]
     },
     "execution_count": 8,
     "metadata": {},
     "output_type": "execute_result"
    },
    {
     "data": {
      "image/png": "[encoded data removed]",
      "text/plain": [
       "<Figure size 640x480 with 1 Axes>"
      ]
     },
     "metadata": {},
     "output_type": "display_data"
    }
   ],
   "source": [
    "plt.plot(df)"
   ]
  },
  {
   "cell_type": "code",
   "execution_count": 9,
   "id": "a27f4f5a-c149-402a-9729-5bc9c7376cdf",
   "metadata": {
    "tags": []
   },
   "outputs": [
    {
     "data": {
      "text/html": [
       "<div>\n",
       "<style scoped>\n",
       "    .dataframe tbody tr th:only-of-type {\n",
       "        vertical-align: middle;\n",
       "    }\n",
       "\n",
       "    .dataframe tbody tr th {\n",
       "        vertical-align: top;\n",
       "    }\n",
       "\n",
       "    .dataframe thead th {\n",
       "        text-align: right;\n",
       "    }\n",
       "</style>\n",
       "<table border=\"1\" class=\"dataframe\">\n",
       "  <thead>\n",
       "    <tr style=\"text-align: right;\">\n",
       "      <th></th>\n",
       "      <th>Close</th>\n",
       "    </tr>\n",
       "    <tr>\n",
       "      <th>Date</th>\n",
       "      <th></th>\n",
       "    </tr>\n",
       "  </thead>\n",
       "  <tbody>\n",
       "    <tr>\n",
       "      <th>1980-12-12</th>\n",
       "      <td>28.75</td>\n",
       "    </tr>\n",
       "    <tr>\n",
       "      <th>1980-12-15</th>\n",
       "      <td>27.25</td>\n",
       "    </tr>\n",
       "    <tr>\n",
       "      <th>1980-12-16</th>\n",
       "      <td>25.25</td>\n",
       "    </tr>\n",
       "    <tr>\n",
       "      <th>1980-12-17</th>\n",
       "      <td>25.87</td>\n",
       "    </tr>\n",
       "    <tr>\n",
       "      <th>1980-12-18</th>\n",
       "      <td>26.63</td>\n",
       "    </tr>\n",
       "  </tbody>\n",
       "</table>\n",
       "</div>"
      ],
      "text/plain": [
       "            Close\n",
       "Date             \n",
       "1980-12-12  28.75\n",
       "1980-12-15  27.25\n",
       "1980-12-16  25.25\n",
       "1980-12-17  25.87\n",
       "1980-12-18  26.63"
      ]
     },
     "execution_count": 9,
     "metadata": {},
     "output_type": "execute_result"
    }
   ],
   "source": [
    "df.head()"
   ]
  },
  {
   "cell_type": "code",
   "execution_count": 10,
   "id": "4bd6ccbf-62ab-4ff4-9ea7-bb2cc043d64b",
   "metadata": {
    "tags": []
   },
   "outputs": [],
   "source": [
    "scaler=MinMaxScaler(feature_range=(0,1))\n",
    "df['Scaled Close']=scaler.fit_transform(np.array(df).reshape(-1,1))"
   ]
  },
  {
   "cell_type": "code",
   "execution_count": 11,
   "id": "b2ff7bbb-3470-4314-bd55-5766b04ffed7",
   "metadata": {
    "tags": []
   },
   "outputs": [
    {
     "data": {
      "text/html": [
       "<div>\n",
       "<style scoped>\n",
       "    .dataframe tbody tr th:only-of-type {\n",
       "        vertical-align: middle;\n",
       "    }\n",
       "\n",
       "    .dataframe tbody tr th {\n",
       "        vertical-align: top;\n",
       "    }\n",
       "\n",
       "    .dataframe thead th {\n",
       "        text-align: right;\n",
       "    }\n",
       "</style>\n",
       "<table border=\"1\" class=\"dataframe\">\n",
       "  <thead>\n",
       "    <tr style=\"text-align: right;\">\n",
       "      <th></th>\n",
       "      <th>Close</th>\n",
       "      <th>Scaled Close</th>\n",
       "    </tr>\n",
       "    <tr>\n",
       "      <th>Date</th>\n",
       "      <th></th>\n",
       "      <th></th>\n",
       "    </tr>\n",
       "  </thead>\n",
       "  <tbody>\n",
       "    <tr>\n",
       "      <th>1980-12-12</th>\n",
       "      <td>28.75</td>\n",
       "      <td>0.025684</td>\n",
       "    </tr>\n",
       "    <tr>\n",
       "      <th>1980-12-15</th>\n",
       "      <td>27.25</td>\n",
       "      <td>0.023513</td>\n",
       "    </tr>\n",
       "    <tr>\n",
       "      <th>1980-12-16</th>\n",
       "      <td>25.25</td>\n",
       "      <td>0.020619</td>\n",
       "    </tr>\n",
       "    <tr>\n",
       "      <th>1980-12-17</th>\n",
       "      <td>25.87</td>\n",
       "      <td>0.021516</td>\n",
       "    </tr>\n",
       "    <tr>\n",
       "      <th>1980-12-18</th>\n",
       "      <td>26.63</td>\n",
       "      <td>0.022616</td>\n",
       "    </tr>\n",
       "  </tbody>\n",
       "</table>\n",
       "</div>"
      ],
      "text/plain": [
       "            Close  Scaled Close\n",
       "Date                           \n",
       "1980-12-12  28.75      0.025684\n",
       "1980-12-15  27.25      0.023513\n",
       "1980-12-16  25.25      0.020619\n",
       "1980-12-17  25.87      0.021516\n",
       "1980-12-18  26.63      0.022616"
      ]
     },
     "execution_count": 11,
     "metadata": {},
     "output_type": "execute_result"
    }
   ],
   "source": [
    "df.head()"
   ]
  },
  {
   "cell_type": "code",
   "execution_count": 12,
   "id": "78d80eaf-b5cf-48f5-899d-946004c67a00",
   "metadata": {
    "tags": []
   },
   "outputs": [],
   "source": [
    "df=df[['Scaled Close']]"
   ]
  },
  {
   "cell_type": "code",
   "execution_count": 13,
   "id": "13447cf2-a50d-481e-94b8-c118003c67c8",
   "metadata": {
    "tags": []
   },
   "outputs": [
    {
     "data": {
      "text/html": [
       "<div>\n",
       "<style scoped>\n",
       "    .dataframe tbody tr th:only-of-type {\n",
       "        vertical-align: middle;\n",
       "    }\n",
       "\n",
       "    .dataframe tbody tr th {\n",
       "        vertical-align: top;\n",
       "    }\n",
       "\n",
       "    .dataframe thead th {\n",
       "        text-align: right;\n",
       "    }\n",
       "</style>\n",
       "<table border=\"1\" class=\"dataframe\">\n",
       "  <thead>\n",
       "    <tr style=\"text-align: right;\">\n",
       "      <th></th>\n",
       "      <th>Scaled Close</th>\n",
       "    </tr>\n",
       "    <tr>\n",
       "      <th>Date</th>\n",
       "      <th></th>\n",
       "    </tr>\n",
       "  </thead>\n",
       "  <tbody>\n",
       "    <tr>\n",
       "      <th>1980-12-12</th>\n",
       "      <td>0.025684</td>\n",
       "    </tr>\n",
       "    <tr>\n",
       "      <th>1980-12-15</th>\n",
       "      <td>0.023513</td>\n",
       "    </tr>\n",
       "    <tr>\n",
       "      <th>1980-12-16</th>\n",
       "      <td>0.020619</td>\n",
       "    </tr>\n",
       "    <tr>\n",
       "      <th>1980-12-17</th>\n",
       "      <td>0.021516</td>\n",
       "    </tr>\n",
       "    <tr>\n",
       "      <th>1980-12-18</th>\n",
       "      <td>0.022616</td>\n",
       "    </tr>\n",
       "  </tbody>\n",
       "</table>\n",
       "</div>"
      ],
      "text/plain": [
       "            Scaled Close\n",
       "Date                    \n",
       "1980-12-12      0.025684\n",
       "1980-12-15      0.023513\n",
       "1980-12-16      0.020619\n",
       "1980-12-17      0.021516\n",
       "1980-12-18      0.022616"
      ]
     },
     "execution_count": 13,
     "metadata": {},
     "output_type": "execute_result"
    }
   ],
   "source": [
    "df.head()"
   ]
  },
  {
   "cell_type": "code",
   "execution_count": 14,
   "id": "ce94c5ca-acce-4e7c-a77a-dca80e16bf19",
   "metadata": {
    "tags": []
   },
   "outputs": [],
   "source": [
    "#Splitting the dataset into training and testing\n",
    "df.reset_index(drop=True, inplace=True)\n",
    "training_size=int(len(df)*0.70)\n",
    "test_size=len(df)-training_size\n",
    "train_data, test_data = df.loc[0:training_size-1, :], df.loc[training_size:, :]\n"
   ]
  },
  {
   "cell_type": "code",
   "execution_count": 15,
   "id": "fea06c30-736c-4786-a827-c665a5a2df31",
   "metadata": {
    "tags": []
   },
   "outputs": [
    {
     "data": {
      "text/plain": [
       "(6580, 2820)"
      ]
     },
     "execution_count": 15,
     "metadata": {},
     "output_type": "execute_result"
    }
   ],
   "source": [
    "training_size, test_size"
   ]
  },
  {
   "cell_type": "code",
   "execution_count": 19,
   "id": "1b07677d-065c-427c-a86e-7fc03a57d9cf",
   "metadata": {
    "tags": []
   },
   "outputs": [],
   "source": [
    "def create_dataset(dataset,time_step=1):\n",
    "    dataX,dataY=[],[]\n",
    "    for i in range(len(dataset)-time_step-1):\n",
    "        a=dataset.iloc[i:(i+time_step),0]\n",
    "        dataX.append(a)\n",
    "        dataY.append(dataset.iloc[i+time_step,0])\n",
    "    return np.array(dataX), np.array(dataY)"
   ]
  },
  {
   "cell_type": "code",
   "execution_count": 24,
   "id": "c17bdc69-667c-457b-82c9-f2e81e3269f3",
   "metadata": {
    "tags": []
   },
   "outputs": [],
   "source": [
    "time_step=100\n",
    "X_train, y_train= create_dataset(train_data, time_step)\n",
    "X_test, y_test= create_dataset(test_data,time_step)"
   ]
  },
  {
   "cell_type": "code",
   "execution_count": 25,
   "id": "f485e65c-5691-40f1-9dce-8fc961bd5fcd",
   "metadata": {
    "tags": []
   },
   "outputs": [
    {
     "data": {
      "text/plain": [
       "array([[0.02568369, 0.02351324, 0.0206193 , ..., 0.02496021, 0.0247721 ,\n",
       "        0.02370135],\n",
       "       [0.02351324, 0.0206193 , 0.02151642, ..., 0.0247721 , 0.02370135,\n",
       "        0.02423672],\n",
       "       [0.0206193 , 0.02151642, 0.02261612, ..., 0.02370135, 0.02423672,\n",
       "        0.02459847],\n",
       "       ...,\n",
       "       [0.0761829 , 0.07660252, 0.08023441, ..., 0.10684416, 0.10533931,\n",
       "        0.10803068],\n",
       "       [0.07660252, 0.08023441, 0.08244827, ..., 0.10533931, 0.10803068,\n",
       "        0.10714802],\n",
       "       [0.08023441, 0.08244827, 0.08188395, ..., 0.10803068, 0.10714802,\n",
       "        0.10775575]])"
      ]
     },
     "execution_count": 25,
     "metadata": {},
     "output_type": "execute_result"
    }
   ],
   "source": [
    "X_train"
   ]
  },
  {
   "cell_type": "code",
   "execution_count": 22,
   "id": "166a1263-1395-4b08-a238-1d61bda1352e",
   "metadata": {
    "tags": []
   },
   "outputs": [
    {
     "data": {
      "text/plain": [
       "(6479, 100)"
      ]
     },
     "execution_count": 22,
     "metadata": {},
     "output_type": "execute_result"
    }
   ],
   "source": [
    "X_train.shape"
   ]
  },
  {
   "cell_type": "code",
   "execution_count": 26,
   "id": "fafc7bb7-6fd7-4a8e-9af7-5ad327bdd2f2",
   "metadata": {
    "tags": []
   },
   "outputs": [
    {
     "data": {
      "text/plain": [
       "(2719, 100)"
      ]
     },
     "execution_count": 26,
     "metadata": {},
     "output_type": "execute_result"
    }
   ],
   "source": [
    "X_test.shape"
   ]
  },
  {
   "cell_type": "code",
   "execution_count": 27,
   "id": "49d06d9e-ea04-4c42-b047-2a540e180373",
   "metadata": {
    "tags": []
   },
   "outputs": [],
   "source": [
    "X_train= X_train.reshape(X_train.shape[0],X_train.shape[1],1)\n",
    "X_test= X_test.reshape(X_test.shape[0], X_test.shape[1],1)"
   ]
  },
  {
   "cell_type": "code",
   "execution_count": 29,
   "id": "c57acdf0-19ec-42b1-bf74-f29907a33ae2",
   "metadata": {
    "tags": []
   },
   "outputs": [],
   "source": [
    "#Create a stacked LSTM\n",
    "from tensorflow.keras.models import Sequential\n",
    "from tensorflow.keras.layers import Dense\n",
    "from tensorflow.keras.layers import LSTM"
   ]
  },
  {
   "cell_type": "code",
   "execution_count": 33,
   "id": "5370e4a7-ab17-443a-8a18-b5b8a3aa6497",
   "metadata": {
    "tags": []
   },
   "outputs": [],
   "source": [
    "model=Sequential()\n",
    "model.add(LSTM(50,return_sequences=True, input_shape=(100,1)))\n",
    "model.add(LSTM(50,return_sequences=True))\n",
    "model.add(LSTM(50))\n",
    "model.add(Dense(1))\n",
    "model.compile(loss='mean_squared_error', optimizer='adam')"
   ]
  },
  {
   "cell_type": "code",
   "execution_count": 34,
   "id": "ac544625-ab16-49a3-9914-15dcd79fcb49",
   "metadata": {
    "tags": []
   },
   "outputs": [
    {
     "name": "stdout",
     "output_type": "stream",
     "text": [
      "Model: \"sequential_3\"\n",
      "_________________________________________________________________\n",
      " Layer (type)                Output Shape              Param #   \n",
      "=================================================================\n",
      " lstm_3 (LSTM)               (None, 100, 50)           10400     \n",
      "                                                                 \n",
      " lstm_4 (LSTM)               (None, 100, 50)           20200     \n",
      "                                                                 \n",
      " lstm_5 (LSTM)               (None, 50)                20200     \n",
      "                                                                 \n",
      " dense_1 (Dense)             (None, 1)                 51        \n",
      "                                                                 \n",
      "=================================================================\n",
      "Total params: 50851 (198.64 KB)\n",
      "Trainable params: 50851 (198.64 KB)\n",
      "Non-trainable params: 0 (0.00 Byte)\n",
      "_________________________________________________________________\n"
     ]
    }
   ],
   "source": [
    "model.summary()"
   ]
  },
  {
   "cell_type": "code",
   "execution_count": 50,
   "id": "4e773f51-18a7-415a-8cb4-d368cd53e5fe",
   "metadata": {
    "tags": []
   },
   "outputs": [
    {
     "name": "stdout",
     "output_type": "stream",
     "text": [
      "Epoch 1/50\n",
      "102/102 [==============================] - 13s 125ms/step - loss: 8.1808e-06 - val_loss: 4.7990e-04\n",
      "Epoch 2/50\n",
      "102/102 [==============================] - 13s 128ms/step - loss: 7.9509e-06 - val_loss: 4.3709e-04\n",
      "Epoch 3/50\n",
      "102/102 [==============================] - 13s 128ms/step - loss: 7.3191e-06 - val_loss: 7.0834e-04\n",
      "Epoch 4/50\n",
      "102/102 [==============================] - 13s 129ms/step - loss: 7.8185e-06 - val_loss: 4.5864e-04\n",
      "Epoch 5/50\n",
      "102/102 [==============================] - 13s 129ms/step - loss: 7.5868e-06 - val_loss: 7.2385e-04\n",
      "Epoch 6/50\n",
      "102/102 [==============================] - 13s 130ms/step - loss: 8.2887e-06 - val_loss: 6.8937e-04\n",
      "Epoch 7/50\n",
      "102/102 [==============================] - 13s 132ms/step - loss: 7.7681e-06 - val_loss: 6.1148e-04\n",
      "Epoch 8/50\n",
      "102/102 [==============================] - 13s 130ms/step - loss: 6.9983e-06 - val_loss: 3.7659e-04\n",
      "Epoch 9/50\n",
      "102/102 [==============================] - 13s 130ms/step - loss: 6.5816e-06 - val_loss: 3.5312e-04\n",
      "Epoch 10/50\n",
      "102/102 [==============================] - 13s 130ms/step - loss: 6.9635e-06 - val_loss: 5.9015e-04\n",
      "Epoch 11/50\n",
      "102/102 [==============================] - 13s 126ms/step - loss: 7.6999e-06 - val_loss: 6.1599e-04\n",
      "Epoch 12/50\n",
      "102/102 [==============================] - 13s 127ms/step - loss: 7.5782e-06 - val_loss: 4.0381e-04\n",
      "Epoch 13/50\n",
      "102/102 [==============================] - 13s 128ms/step - loss: 6.5220e-06 - val_loss: 4.1880e-04\n",
      "Epoch 14/50\n",
      "102/102 [==============================] - 13s 129ms/step - loss: 6.7609e-06 - val_loss: 7.5702e-04\n",
      "Epoch 15/50\n",
      "102/102 [==============================] - 13s 130ms/step - loss: 6.7127e-06 - val_loss: 4.1023e-04\n",
      "Epoch 16/50\n",
      "102/102 [==============================] - 13s 129ms/step - loss: 6.7589e-06 - val_loss: 0.0022\n",
      "Epoch 17/50\n",
      "102/102 [==============================] - 13s 131ms/step - loss: 7.2442e-06 - val_loss: 4.9964e-04\n",
      "Epoch 18/50\n",
      "102/102 [==============================] - 13s 130ms/step - loss: 6.6455e-06 - val_loss: 0.0011\n",
      "Epoch 19/50\n",
      "102/102 [==============================] - 13s 131ms/step - loss: 7.4542e-06 - val_loss: 8.2196e-04\n",
      "Epoch 20/50\n",
      "102/102 [==============================] - 13s 131ms/step - loss: 8.2723e-06 - val_loss: 4.7893e-04\n",
      "Epoch 21/50\n",
      "102/102 [==============================] - 13s 130ms/step - loss: 7.6634e-06 - val_loss: 3.8742e-04\n",
      "Epoch 22/50\n",
      "102/102 [==============================] - 13s 131ms/step - loss: 7.3396e-06 - val_loss: 7.4843e-04\n",
      "Epoch 23/50\n",
      "102/102 [==============================] - 14s 133ms/step - loss: 7.5456e-06 - val_loss: 5.8666e-04\n",
      "Epoch 24/50\n",
      "102/102 [==============================] - 14s 133ms/step - loss: 7.3674e-06 - val_loss: 0.0013\n",
      "Epoch 25/50\n",
      "102/102 [==============================] - 12s 122ms/step - loss: 6.9702e-06 - val_loss: 4.6150e-04\n",
      "Epoch 26/50\n",
      "102/102 [==============================] - 8s 80ms/step - loss: 6.8825e-06 - val_loss: 0.0015\n",
      "Epoch 27/50\n",
      "102/102 [==============================] - 8s 80ms/step - loss: 6.6735e-06 - val_loss: 6.3855e-04\n",
      "Epoch 28/50\n",
      "102/102 [==============================] - 8s 79ms/step - loss: 6.7176e-06 - val_loss: 0.0012\n",
      "Epoch 29/50\n",
      "102/102 [==============================] - 8s 81ms/step - loss: 6.9852e-06 - val_loss: 0.0012\n",
      "Epoch 30/50\n",
      "102/102 [==============================] - 9s 85ms/step - loss: 6.6316e-06 - val_loss: 0.0014\n",
      "Epoch 31/50\n",
      "102/102 [==============================] - 9s 87ms/step - loss: 6.6925e-06 - val_loss: 0.0013\n",
      "Epoch 32/50\n",
      "102/102 [==============================] - 9s 85ms/step - loss: 6.3244e-06 - val_loss: 6.7896e-04\n",
      "Epoch 33/50\n",
      "102/102 [==============================] - 8s 81ms/step - loss: 7.4338e-06 - val_loss: 7.4203e-04\n",
      "Epoch 34/50\n",
      "102/102 [==============================] - 8s 80ms/step - loss: 6.6046e-06 - val_loss: 8.5557e-04\n",
      "Epoch 35/50\n",
      "102/102 [==============================] - 8s 81ms/step - loss: 7.3000e-06 - val_loss: 7.4423e-04\n",
      "Epoch 36/50\n",
      "102/102 [==============================] - 8s 79ms/step - loss: 6.5414e-06 - val_loss: 8.0427e-04\n",
      "Epoch 37/50\n",
      "102/102 [==============================] - 8s 81ms/step - loss: 6.9246e-06 - val_loss: 5.2248e-04\n",
      "Epoch 38/50\n",
      "102/102 [==============================] - 8s 79ms/step - loss: 6.9273e-06 - val_loss: 7.6546e-04\n",
      "Epoch 39/50\n",
      "102/102 [==============================] - 8s 80ms/step - loss: 6.8316e-06 - val_loss: 0.0032\n",
      "Epoch 40/50\n",
      "102/102 [==============================] - 8s 81ms/step - loss: 8.3688e-06 - val_loss: 5.5283e-04\n",
      "Epoch 41/50\n",
      "102/102 [==============================] - 8s 80ms/step - loss: 6.5386e-06 - val_loss: 0.0010\n",
      "Epoch 42/50\n",
      "102/102 [==============================] - 8s 80ms/step - loss: 7.1822e-06 - val_loss: 6.6294e-04\n",
      "Epoch 43/50\n",
      "102/102 [==============================] - 8s 82ms/step - loss: 7.1810e-06 - val_loss: 9.2594e-04\n",
      "Epoch 44/50\n",
      "102/102 [==============================] - 8s 80ms/step - loss: 6.6275e-06 - val_loss: 0.0012\n",
      "Epoch 45/50\n",
      "102/102 [==============================] - 8s 80ms/step - loss: 6.8176e-06 - val_loss: 0.0014\n",
      "Epoch 46/50\n",
      "102/102 [==============================] - 8s 81ms/step - loss: 6.9744e-06 - val_loss: 0.0011\n",
      "Epoch 47/50\n",
      "102/102 [==============================] - 8s 83ms/step - loss: 7.0233e-06 - val_loss: 0.0013\n",
      "Epoch 48/50\n",
      "102/102 [==============================] - 8s 82ms/step - loss: 6.5679e-06 - val_loss: 0.0011\n",
      "Epoch 49/50\n",
      "102/102 [==============================] - 8s 82ms/step - loss: 6.8021e-06 - val_loss: 0.0019\n",
      "Epoch 50/50\n",
      "102/102 [==============================] - 8s 81ms/step - loss: 6.5499e-06 - val_loss: 7.8755e-04\n"
     ]
    },
    {
     "data": {
      "text/plain": [
       "<keras.src.callbacks.History at 0x28bd5a590>"
      ]
     },
     "execution_count": 50,
     "metadata": {},
     "output_type": "execute_result"
    }
   ],
   "source": [
    "model.fit(X_train,y_train,validation_data=(X_test,y_test),epochs=50, batch_size=64,verbose=1)"
   ]
  },
  {
   "cell_type": "code",
   "execution_count": 51,
   "id": "da6aab22-890e-484c-ae3b-bc383fe88571",
   "metadata": {
    "tags": []
   },
   "outputs": [
    {
     "name": "stdout",
     "output_type": "stream",
     "text": [
      "203/203 [==============================] - 2s 12ms/step\n",
      "85/85 [==============================] - 1s 12ms/step\n"
     ]
    }
   ],
   "source": [
    "train_predict=model.predict(X_train)\n",
    "test_predict=model.predict(X_test)"
   ]
  },
  {
   "cell_type": "code",
   "execution_count": 52,
   "id": "e2846758-a8c6-43f0-8d39-e4317ec6ef1e",
   "metadata": {
    "tags": []
   },
   "outputs": [],
   "source": [
    "train_predict=scaler.inverse_transform(train_predict)\n",
    "test_predict=scaler.inverse_transform(test_predict)"
   ]
  },
  {
   "cell_type": "code",
   "execution_count": 53,
   "id": "364dd231-12c2-401b-bc72-eb34dff9bb74",
   "metadata": {
    "tags": []
   },
   "outputs": [
    {
     "data": {
      "text/plain": [
       "43.20244067635559"
      ]
     },
     "execution_count": 53,
     "metadata": {},
     "output_type": "execute_result"
    }
   ],
   "source": [
    "import math\n",
    "from sklearn.metrics import mean_squared_error\n",
    "math.sqrt(mean_squared_error(y_train,train_predict))"
   ]
  },
  {
   "cell_type": "code",
   "execution_count": 54,
   "id": "1957b68f-c861-4e0a-b88a-2338931b6980",
   "metadata": {
    "tags": []
   },
   "outputs": [
    {
     "data": {
      "text/plain": [
       "292.9797448086709"
      ]
     },
     "execution_count": 54,
     "metadata": {},
     "output_type": "execute_result"
    }
   ],
   "source": [
    "#RMSE\n",
    "math.sqrt(mean_squared_error(y_test,test_predict))"
   ]
  },
  {
   "cell_type": "code",
   "execution_count": 55,
   "id": "7e7c5be3-888f-483b-ad8b-4cb03cb3e107",
   "metadata": {
    "tags": []
   },
   "outputs": [
    {
     "data": {
      "image/png": "[encoded data removed]",
      "text/plain": [
       "<Figure size 640x480 with 1 Axes>"
      ]
     },
     "metadata": {},
     "output_type": "display_data"
    }
   ],
   "source": [
    "##Plotting\n",
    "look_back=100\n",
    "trainPredictPlot=np.empty_like(df)\n",
    "trainPredictPlot[:, :]=np.nan\n",
    "trainPredictPlot[look_back:len(train_predict)+look_back, :]= train_predict\n",
    "#Shift test predictions for plotting\n",
    "testPredictPlot=np.empty_like(df)\n",
    "testPredictPlot[:, :]=np.nan\n",
    "testPredictPlot[len(train_predict)+(look_back*2)+1:len(df)-1, :]= test_predict\n",
    "#Plot baseline and predictions\n",
    "plt.plot(scaler.inverse_transform(df))\n",
    "plt.plot(trainPredictPlot)\n",
    "plt.plot(testPredictPlot)\n",
    "plt.show()"
   ]
  }
 ],
 "metadata": {
  "kernelspec": {
   "display_name": "Python 3 (ipykernel)",
   "language": "python",
   "name": "python3"
  },
  "language_info": {
   "codemirror_mode": {
    "name": "ipython",
    "version": 3
   },
   "file_extension": ".py",
   "mimetype": "text/x-python",
   "name": "python",
   "nbconvert_exporter": "python",
   "pygments_lexer": "ipython3",
   "version": "3.11.4"
  }
 },
 "nbformat": 4,
 "nbformat_minor": 5
}
